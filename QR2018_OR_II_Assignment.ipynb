{
  "nbformat": 4,
  "nbformat_minor": 0,
  "metadata": {
    "colab": {
      "name": "QR2018_OR-II_Assignment.ipynb",
      "provenance": []
    },
    "kernelspec": {
      "name": "python3",
      "display_name": "Python 3"
    },
    "language_info": {
      "name": "python"
    }
  },
  "cells": [
    {
      "cell_type": "code",
      "metadata": {
        "id": "7n07cYrvHVW1"
      },
      "source": [
        "import pandas as pd\n",
        "import numpy as np\n",
        "\n",
        "def Functions(m):\n",
        "    w=M@m+q\n",
        "    mat_1=np.diag(m)\n",
        "    mat_2=np.diag(w)\n",
        "    return(np.diag(mat_1@mat_2),mat_1@M+mat_2)\n",
        "\n",
        "def Modified_newton_function(M,q,z,epsilon):\n",
        "    k=0\n",
        "    result='No Error'\n",
        "    while True:\n",
        "        #w=M@z+q\n",
        "        Fz,F_z=Functions(z)\n",
        "        try:\n",
        "            x=z-0.5*(np.linalg.inv(F_z)@(Fz.T))\n",
        "            Fun_x,fun_x=Functions(x)\n",
        "            try:\n",
        "                y=z-np.linalg.inv(fun_x)@(Fz.T)\n",
        "                fun_y,Fun_y=Functions(y)\n",
        "                try:\n",
        "                    z_new=y+(np.linalg.inv(F_z)-2*np.linalg.inv(fun_x))@(fun_y.T)\n",
        "                    z=z_new\n",
        "                    Fz,F_z=Functions(z)\n",
        "                    k+=1\n",
        "                    if np.linalg.norm(Fz)<epsilon:\n",
        "                        print(\"The Required solution is :\\nz = \",\n",
        "                              [round(ele,5) for ele in z],'\\nw = ',\n",
        "                              [round(ele,5) for ele in M@z+q],\n",
        "                              '\\n no. of iterations:',k)\n",
        "                        break\n",
        "                    if k>10000:\n",
        "                        print('solution do not converge\\nthe latest solution is:\\n',\n",
        "                              [round(ele,5) for ele in z],'\\n no. of iterations:',k)\n",
        "                        break\n",
        "                except:\n",
        "                    result='Error'\n",
        "            except:\n",
        "                result='Error'\n",
        "        except:\n",
        "            result='Error'\n",
        "        if result=='Error':\n",
        "            print('The error occurs at iteration:',k+1)\n",
        "            break"
      ],
      "execution_count": 18,
      "outputs": []
    },
    {
      "cell_type": "code",
      "metadata": {
        "colab": {
          "base_uri": "https://localhost:8080/"
        },
        "id": "yGJhdFWWNfiS",
        "outputId": "c438f24c-45f0-4a50-8832-6a1b7c475492"
      },
      "source": [
        "# Problem 1.0\n",
        "\n",
        "M=np.array([[2,-5,2,0],\n",
        "            [4,1,0,0],\n",
        "            [-5,1,2,0],\n",
        "            [1,-1,-1,2]])\n",
        "q=np.array([-5,-4,2,1])\n",
        "z=np.array([2,3.5,4,10]) #initial iteration \n",
        "\n",
        "try:\n",
        "    Modified_newton_function(M,q,z, 0.000001)\n",
        "except:\n",
        "    print('Error')"
      ],
      "execution_count": 19,
      "outputs": [
        {
          "output_type": "stream",
          "name": "stdout",
          "text": [
            "The Required solution is :\n",
            "z =  [1.0004, 0.00047, 1.50077, -0.0] \n",
            "w =  [0.0, 0.00207, 0.0, 0.49917] \n",
            " no. of iterations: 6\n"
          ]
        }
      ]
    },
    {
      "cell_type": "code",
      "metadata": {
        "colab": {
          "base_uri": "https://localhost:8080/"
        },
        "id": "koY7xmGXNhPQ",
        "outputId": "207bec6f-a55e-4d73-c7e3-4846a27953a1"
      },
      "source": [
        "# Problem 1.2\n",
        "\n",
        "M=np.array([[2,-5,2,0],\n",
        "            [4,1,0,0],\n",
        "            [-5,1,2,0],\n",
        "            [1,-1,-1,2]])\n",
        "q=np.array([-5,-4,2,1])\n",
        "z=np.array([1,1,1,1]) #initial iteration \n",
        "\n",
        "try:\n",
        "    Modified_newton_function(M,q,z,0.000001)\n",
        "except:\n",
        "    print('Error')"
      ],
      "execution_count": 20,
      "outputs": [
        {
          "output_type": "stream",
          "name": "stdout",
          "text": [
            "The Required solution is :\n",
            "z =  [1.00033, 0.00038, 1.50063, -0.0] \n",
            "w =  [0.0, 0.00169, -0.0, 0.49932] \n",
            " no. of iterations: 5\n"
          ]
        }
      ]
    },
    {
      "cell_type": "code",
      "metadata": {
        "colab": {
          "base_uri": "https://localhost:8080/"
        },
        "id": "HjfKVf_JNihl",
        "outputId": "e0a65673-8449-4b05-8df7-9e3439dd1513"
      },
      "source": [
        "# Problem 1.3\n",
        "\n",
        "M=np.array([[2,-5,2,0],\n",
        "            [4,1,0,0],\n",
        "            [-5,1,2,0],\n",
        "            [1,-1,-1,2]])\n",
        "q=np.array([-5,-4,2,1])\n",
        "z=np.array([2,3.5,4,10]) #initial iteration \n",
        "\n",
        "try:\n",
        "    Modified_newton_function(M,q,z, 0.000001)\n",
        "except:\n",
        "    print('Error')"
      ],
      "execution_count": 21,
      "outputs": [
        {
          "output_type": "stream",
          "name": "stdout",
          "text": [
            "The Required solution is :\n",
            "z =  [1.0004, 0.00047, 1.50077, -0.0] \n",
            "w =  [0.0, 0.00207, 0.0, 0.49917] \n",
            " no. of iterations: 6\n"
          ]
        }
      ]
    },
    {
      "cell_type": "code",
      "metadata": {
        "colab": {
          "base_uri": "https://localhost:8080/"
        },
        "id": "SvZYmyt1Nj4s",
        "outputId": "3909c135-f29f-4f62-b559-401a1406e4da"
      },
      "source": [
        "# Problem 1.3\n",
        "\n",
        "M=np.array([[2,-5,2,0],\n",
        "            [4,1,0,0],\n",
        "            [-5,1,2,0],\n",
        "            [1,-1,-1,2]])\n",
        "q=np.array([-5,-4,2,1])\n",
        "z=np.array([1.2,3.5,5.4,10.8]) #initial iteration \n",
        "\n",
        "try:\n",
        "    Modified_newton_function(M,q,z, 0.000001)\n",
        "except:\n",
        "    print('Error')"
      ],
      "execution_count": 22,
      "outputs": [
        {
          "output_type": "stream",
          "name": "stdout",
          "text": [
            "The Required solution is :\n",
            "z =  [1.00033, 0.00039, 1.50063, -0.0] \n",
            "w =  [0.0, 0.00171, 0.0, 0.49931] \n",
            " no. of iterations: 6\n"
          ]
        }
      ]
    },
    {
      "cell_type": "code",
      "metadata": {
        "colab": {
          "base_uri": "https://localhost:8080/"
        },
        "id": "eRyQ1M6rNlAx",
        "outputId": "3671d12a-827e-413b-faf3-79faf3a9a792"
      },
      "source": [
        "# Problem 1.4\n",
        "\n",
        "M=np.array([[2,-5,2,0],\n",
        "            [4,1,0,0],\n",
        "            [-5,1,2,0],\n",
        "            [1,-1,-1,2]])\n",
        "q=np.array([-5,-4,2,1])\n",
        "z=np.array([2.5,3.5,7.9,1.6]) #initial iteration \n",
        "\n",
        "try:\n",
        "    Modified_newton_function(M,q,z,0.000001)\n",
        "except:\n",
        "    print('Error')"
      ],
      "execution_count": 23,
      "outputs": [
        {
          "output_type": "stream",
          "name": "stdout",
          "text": [
            "The Required solution is :\n",
            "z =  [1.00003, 3e-05, 1.50005, -0.24997] \n",
            "w =  [0.0, 0.00014, -0.0, 0.0] \n",
            " no. of iterations: 8\n"
          ]
        }
      ]
    },
    {
      "cell_type": "code",
      "metadata": {
        "colab": {
          "base_uri": "https://localhost:8080/"
        },
        "id": "yz-Mgg0pNmmo",
        "outputId": "d3442b8e-1d3a-4faf-af85-8157b90e958d"
      },
      "source": [
        "# Problem 1.5\n",
        "\n",
        "M=np.array([[2,-5,2,0],\n",
        "            [4,1,0,0],\n",
        "            [-5,1,2,0],\n",
        "            [1,-1,-1,2]])\n",
        "q=np.array([-5,-4,2,1])\n",
        "z=np.array([111,108,176,179]) #initial iteration \n",
        "\n",
        "try:\n",
        "    Modified_newton_function(M,q,z,0.000001)\n",
        "except:\n",
        "    print('Error')"
      ],
      "execution_count": 24,
      "outputs": [
        {
          "output_type": "stream",
          "name": "stdout",
          "text": [
            "The Required solution is :\n",
            "z =  [1.00027, 0.00031, 1.50052, 0.0] \n",
            "w =  [0.0, 0.00139, 0.0, 0.49944] \n",
            " no. of iterations: 9\n"
          ]
        }
      ]
    },
    {
      "cell_type": "code",
      "metadata": {
        "colab": {
          "base_uri": "https://localhost:8080/"
        },
        "id": "3a6I4aNDNoCg",
        "outputId": "95ae01ef-6380-4d6c-f5a0-3b117b531638"
      },
      "source": [
        "# Problem 1.6\n",
        "\n",
        "M=np.array([[2,-5,2,0],\n",
        "            [4,1,0,0],\n",
        "            [-5,1,2,0],\n",
        "            [1,-1,-1,2]])\n",
        "q=np.array([-5,-4,2,1])\n",
        "z=np.array([23.5,31.5,46.8,89.01]) #initial iteration \n",
        "\n",
        "try:\n",
        "    Modified_newton_function(M,q,z,0.000001)\n",
        "except:\n",
        "    print('Error')"
      ],
      "execution_count": 25,
      "outputs": [
        {
          "output_type": "stream",
          "name": "stdout",
          "text": [
            "The Required solution is :\n",
            "z =  [1.00028, 0.00033, 1.50054, -0.0] \n",
            "w =  [0.0, 0.00147, 0.0, 0.49941] \n",
            " no. of iterations: 8\n"
          ]
        }
      ]
    },
    {
      "cell_type": "code",
      "metadata": {
        "colab": {
          "base_uri": "https://localhost:8080/"
        },
        "id": "YqD_4l7fNpRD",
        "outputId": "c0a896a5-ad00-44ee-ff28-ecf20dca1c58"
      },
      "source": [
        "# Problem 1.7\n",
        "\n",
        "M=np.array([[2,-5,2,0],\n",
        "            [4,1,0,0],\n",
        "            [-5,1,2,0],\n",
        "            [1,-1,-1,2]])\n",
        "q=np.array([-5,-4,2,1])\n",
        "z=np.array([5,31.59,4,101]) #initial iteration \n",
        "\n",
        "try:\n",
        "    Modified_newton_function(M,q,z,0.000001)\n",
        "except:\n",
        "    print('Error')"
      ],
      "execution_count": 26,
      "outputs": [
        {
          "output_type": "stream",
          "name": "stdout",
          "text": [
            "The Required solution is :\n",
            "z =  [0.0, 4.0, 0.0, 1.5] \n",
            "w =  [-25.0, 0.0, 6.0, 0.0] \n",
            " no. of iterations: 5\n"
          ]
        }
      ]
    },
    {
      "cell_type": "code",
      "metadata": {
        "colab": {
          "base_uri": "https://localhost:8080/"
        },
        "id": "KFQGTbrpNqlY",
        "outputId": "d804aa77-5a3c-4d73-bb92-4ba73017007d"
      },
      "source": [
        "# Problem 1.8\n",
        "\n",
        "M=np.array([[2,-5,2,0],\n",
        "            [4,1,0,0],\n",
        "            [-5,1,2,0],\n",
        "            [1,-1,-1,2]])\n",
        "q=np.array([-5,-4,2,1])\n",
        "z=np.array([29,13.53,4,19]) #initial iteration \n",
        "\n",
        "try:\n",
        "    Modified_newton_function(M,q,z,0.000001)\n",
        "except:\n",
        "    print('Error')"
      ],
      "execution_count": 27,
      "outputs": [
        {
          "output_type": "stream",
          "name": "stdout",
          "text": [
            "The Required solution is :\n",
            "z =  [2.5, 0.0, 0.0, 0.0] \n",
            "w =  [-0.0, 6.0, -10.5, 3.5] \n",
            " no. of iterations: 4\n"
          ]
        }
      ]
    },
    {
      "cell_type": "code",
      "metadata": {
        "colab": {
          "base_uri": "https://localhost:8080/"
        },
        "id": "pNTtlRTiNr_t",
        "outputId": "a35e53d2-3896-4842-d7dd-02eee4dfebf9"
      },
      "source": [
        "# Problem 1.9\n",
        "\n",
        "M=np.array([[2,-5,2,0],\n",
        "            [4,1,0,0],\n",
        "            [-5,1,2,0],\n",
        "            [1,-1,-1,2]])\n",
        "q=np.array([-5,-4,2,1])\n",
        "z=np.array([65,34.5,48,107]) #initial iteration \n",
        "\n",
        "try:\n",
        "    Modified_newton_function(M,q,z,0.000001)\n",
        "except:\n",
        "    print('Error')"
      ],
      "execution_count": 28,
      "outputs": [
        {
          "output_type": "stream",
          "name": "stdout",
          "text": [
            "The Required solution is :\n",
            "z =  [0.0, 0.0, -1.0, 0.0] \n",
            "w =  [-7.0, -4.0, 0.0, 2.0] \n",
            " no. of iterations: 13\n"
          ]
        }
      ]
    },
    {
      "cell_type": "code",
      "metadata": {
        "colab": {
          "base_uri": "https://localhost:8080/"
        },
        "id": "bTftiwfQNtQ4",
        "outputId": "367df4c6-49d1-4be6-a9dc-7a90720a883e"
      },
      "source": [
        "# Problem 2\n",
        "\n",
        "data_1=pd.read_csv('Ex1_OR.csv')\n",
        "\n",
        "x=[str(i) for i in range(100,int(data_1.columns[-1]),100)]\n",
        "M=np.array(data_1[x])\n",
        "q=np.array(data_1[data_1.columns[-1]])\n",
        "z=np.array([1 for i in range(len(data_1))])\n",
        "\n",
        "try:\n",
        "    Modified_newton_function(M,q,z, 0.000001)\n",
        "except:\n",
        "    print('Error')\n"
      ],
      "execution_count": 29,
      "outputs": [
        {
          "output_type": "stream",
          "name": "stdout",
          "text": [
            "The Required solution is :\n",
            "z =  [1.0, -0.0, 0.04211, 0.03158, 0.2, 0.0, 0.15789, 0.21053, 1.0, 1.0, -0.0, -0.0, 0.0, 0.0, -0.0, -0.0] \n",
            "w =  [0.0, -0.2, 0.0, -0.0, 0.0, 3.0, 0.0, -0.0, 0.0, 0.0, 0.63158, -0.63158, 0.92632, -0.92632, -0.8, 0.8] \n",
            " no. of iterations: 4\n"
          ]
        }
      ]
    },
    {
      "cell_type": "code",
      "metadata": {
        "colab": {
          "base_uri": "https://localhost:8080/"
        },
        "id": "YRZnyBvCNugY",
        "outputId": "93ae8cde-ff94-4ce9-8d67-13eee93f72a4"
      },
      "source": [
        "# Problem 3\n",
        "\n",
        "data_2=pd.read_csv('Ex2_OR.csv')\n",
        "\n",
        "x=[str(i) for i in range(100,int(data_2.columns[-1]),100)]\n",
        "M=np.array(data_2[x])\n",
        "q=np.array(data_2[data_2.columns[-1]])\n",
        "z=np.array([1 for i in range(len(data_2))])\n",
        "\n",
        "Modified_newton_function(M,q,z, 0.000001)"
      ],
      "execution_count": 30,
      "outputs": [
        {
          "output_type": "stream",
          "name": "stdout",
          "text": [
            "The error occurs at iteration: 1\n"
          ]
        }
      ]
    },
    {
      "cell_type": "code",
      "metadata": {
        "colab": {
          "base_uri": "https://localhost:8080/"
        },
        "id": "4u5mpih2Nvss",
        "outputId": "e932ef7b-55dd-4dc3-8972-04741508ab6d"
      },
      "source": [
        "\n",
        "# Problem 4\n",
        "\n",
        "M=np.array([[0,0,0,1,2],\n",
        "            [0,0,-1,-1,2],\n",
        "            [0,-1,0,-1,1],\n",
        "            [1,-1,-1,0,0],\n",
        "            [2,1,0,0,0]])\n",
        "q=np.array([-2,-1,7,2,-1])\n",
        "z=np.array([9,11,0.1,123,8])\n",
        "\n",
        "try:\n",
        "    Modified_newton_function(M,q,z,0.000001)\n",
        "except:\n",
        "    print('Error')"
      ],
      "execution_count": 31,
      "outputs": [
        {
          "output_type": "stream",
          "name": "stdout",
          "text": [
            "The Required solution is :\n",
            "z =  [0.0, 2.0, 0.0, -1.0, -0.0] \n",
            "w =  [-3.0, 0.0, 6.0, -0.0, 1.0] \n",
            " no. of iterations: 6\n"
          ]
        }
      ]
    },
    {
      "cell_type": "code",
      "metadata": {
        "colab": {
          "base_uri": "https://localhost:8080/"
        },
        "id": "VTxACTHDNw34",
        "outputId": "3d245342-33e9-4866-afa8-d07f25978a04"
      },
      "source": [
        "# Problem 5\n",
        "\n",
        "M=np.array([[-1,1,1,1],\n",
        "            [1,0,0,0],\n",
        "            [1,0,0,-1],\n",
        "            [1,0,-1,0]])\n",
        "q=np.array([-1,1,-1,1])\n",
        "z=np.array([2.1,11,1.6,1.9])\n",
        "\n",
        "try:\n",
        "    Modified_newton_function(M,q,z,0.000001)\n",
        "except:\n",
        "    print('Error')"
      ],
      "execution_count": 32,
      "outputs": [
        {
          "output_type": "stream",
          "name": "stdout",
          "text": [
            "The Required solution is :\n",
            "z =  [1.00033, 0.0, 2.0, 0.00033] \n",
            "w =  [0.0, 2.00033, 0.0, 0.00033] \n",
            " no. of iterations: 6\n"
          ]
        }
      ]
    },
    {
      "cell_type": "code",
      "metadata": {
        "colab": {
          "base_uri": "https://localhost:8080/"
        },
        "id": "Kuu8mGjSNyGy",
        "outputId": "d40c7a76-5030-4c68-edd9-4771c95e928a"
      },
      "source": [
        "# Problem 6\n",
        "\n",
        "M=np.array([[1,-2,0],\n",
        "            [0,1,-2],\n",
        "            [-2,0,1]])\n",
        "q=np.array([-1,1,7])\n",
        "z=np.array([4,8,9])\n",
        "\n",
        "try:\n",
        "    Modified_newton_function(M,q,z,0.000001)\n",
        "except:\n",
        "    print('Error')"
      ],
      "execution_count": 33,
      "outputs": [
        {
          "output_type": "stream",
          "name": "stdout",
          "text": [
            "The Required solution is :\n",
            "z =  [4.14286, 1.57143, 1.28571] \n",
            "w =  [0.0, 0.0, 0.0] \n",
            " no. of iterations: 3\n"
          ]
        }
      ]
    },
    {
      "cell_type": "code",
      "metadata": {
        "colab": {
          "base_uri": "https://localhost:8080/"
        },
        "id": "OU3D1u-INzXv",
        "outputId": "a5ccb489-62d1-4e33-a4b8-56e64f97e2ad"
      },
      "source": [
        "# Problem 7\n",
        "\n",
        "M=np.array([[-1,2,1],\n",
        "            [1,-0.5,-0.25],\n",
        "            [-0.5,-1,-1]])\n",
        "q=np.array([-0.25,-0.1,3])\n",
        "z=np.array([1.8,3.4,1.8])\n",
        "\n",
        "try:\n",
        "    Modified_newton_function(M,q,z,0.000001)\n",
        "except:\n",
        "    print('Error')"
      ],
      "execution_count": 34,
      "outputs": [
        {
          "output_type": "stream",
          "name": "stdout",
          "text": [
            "The Required solution is :\n",
            "z =  [-0.0, -0.0, 3.0] \n",
            "w =  [2.75, -0.85, 0.0] \n",
            " no. of iterations: 6\n"
          ]
        }
      ]
    },
    {
      "cell_type": "code",
      "metadata": {
        "colab": {
          "base_uri": "https://localhost:8080/"
        },
        "id": "1JQzVcDfN0mq",
        "outputId": "3c688351-9fa5-4088-a218-c237c4643e28"
      },
      "source": [
        "# Problem 8\n",
        "\n",
        "M=np.array([[0,1,1],\n",
        "            [2,0,1],\n",
        "            [-4,-5,0]])\n",
        "q=np.array([-4,-7,10])\n",
        "z=np.array([4,1,10])\n",
        "\n",
        "try:\n",
        "    Modified_newton_function(M,q,z,0.000001)\n",
        "except:\n",
        "    print('Error')"
      ],
      "execution_count": 35,
      "outputs": [
        {
          "output_type": "stream",
          "name": "stdout",
          "text": [
            "The Required solution is :\n",
            "z =  [2.5, 0.0, 4.0] \n",
            "w =  [0.0, 2.0, 0.0] \n",
            " no. of iterations: 5\n"
          ]
        }
      ]
    },
    {
      "cell_type": "code",
      "metadata": {
        "colab": {
          "base_uri": "https://localhost:8080/"
        },
        "id": "cuSNbqEtN1qE",
        "outputId": "9188ad3d-afee-4dc5-e5f9-9b6c45a3b462"
      },
      "source": [
        "# Problem 9\n",
        "\n",
        "M=np.array([[-2,-2,-2,2],\n",
        "            [-2,-1,-3,3],\n",
        "            [-2,-3,-1,3],\n",
        "            [2,3,3,0]])\n",
        "q=np.array([1,1,1,1])\n",
        "z=np.array([8,1.4,11,6])\n",
        "\n",
        "try:\n",
        "    Modified_newton_function(M,q,z,0.000001)\n",
        "except:\n",
        "    print('Error')"
      ],
      "execution_count": 36,
      "outputs": [
        {
          "output_type": "stream",
          "name": "stdout",
          "text": [
            "The Required solution is :\n",
            "z =  [-0.0, 0.0, 1.0, 0.0] \n",
            "w =  [-1.0, -2.0, -0.0, 4.0] \n",
            " no. of iterations: 4\n"
          ]
        }
      ]
    },
    {
      "cell_type": "code",
      "metadata": {
        "id": "mrjooKKIN2yx"
      },
      "source": [
        ""
      ],
      "execution_count": null,
      "outputs": []
    }
  ]
}